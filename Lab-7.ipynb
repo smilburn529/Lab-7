{
 "cells": [
  {
   "cell_type": "raw",
   "metadata": {
    "vscode": {
     "languageId": "raw"
    }
   },
   "source": [
    "---\n",
    "title: \"Lab 7: Heart Attack\"\n",
    "author: \"Steve Milburn\"\n",
    "embed-resources: true\n",
    "---"
   ]
  },
  {
   "cell_type": "code",
   "execution_count": 1,
   "metadata": {},
   "outputs": [],
   "source": [
    "import pandas as pd\n",
    "import numpy as np\n",
    "import matplotlib.pyplot as plt\n",
    "from sklearn.pipeline import Pipeline\n",
    "from sklearn.neighbors import KNeighborsClassifier\n",
    "from sklearn.tree import DecisionTreeClassifier, plot_tree\n",
    "from sklearn.pipeline import Pipeline\n",
    "from sklearn.compose import make_column_selector, ColumnTransformer\n",
    "from sklearn.preprocessing import StandardScaler, OneHotEncoder, PolynomialFeatures\n",
    "from sklearn.linear_model import LinearRegression, Ridge, Lasso, ElasticNet, LogisticRegression\n",
    "from sklearn.model_selection import train_test_split, cross_val_score, GridSearchCV, cross_validate\n",
    "from plotnine import ggplot, aes, geom_bar, labs, theme, element_text\n",
    "from sklearn.metrics import confusion_matrix, accuracy_score, classification_report, roc_auc_score, roc_curve, auc, make_scorer, recall_score, precision_score, cohen_kappa_score"
   ]
  },
  {
   "cell_type": "code",
   "execution_count": 2,
   "metadata": {},
   "outputs": [],
   "source": [
    "ha = pd.read_csv(\"https://www.dropbox.com/s/aohbr6yb9ifmc8w/heart_attack.csv?dl=1\")"
   ]
  },
  {
   "cell_type": "code",
   "execution_count": 3,
   "metadata": {},
   "outputs": [
    {
     "data": {
      "text/html": [
       "<div>\n",
       "<style scoped>\n",
       "    .dataframe tbody tr th:only-of-type {\n",
       "        vertical-align: middle;\n",
       "    }\n",
       "\n",
       "    .dataframe tbody tr th {\n",
       "        vertical-align: top;\n",
       "    }\n",
       "\n",
       "    .dataframe thead th {\n",
       "        text-align: right;\n",
       "    }\n",
       "</style>\n",
       "<table border=\"1\" class=\"dataframe\">\n",
       "  <thead>\n",
       "    <tr style=\"text-align: right;\">\n",
       "      <th></th>\n",
       "      <th>age</th>\n",
       "      <th>sex</th>\n",
       "      <th>cp</th>\n",
       "      <th>trtbps</th>\n",
       "      <th>chol</th>\n",
       "      <th>restecg</th>\n",
       "      <th>thalach</th>\n",
       "      <th>output</th>\n",
       "    </tr>\n",
       "  </thead>\n",
       "  <tbody>\n",
       "    <tr>\n",
       "      <th>0</th>\n",
       "      <td>63</td>\n",
       "      <td>1</td>\n",
       "      <td>3</td>\n",
       "      <td>145</td>\n",
       "      <td>233</td>\n",
       "      <td>0</td>\n",
       "      <td>150</td>\n",
       "      <td>1</td>\n",
       "    </tr>\n",
       "    <tr>\n",
       "      <th>1</th>\n",
       "      <td>37</td>\n",
       "      <td>1</td>\n",
       "      <td>2</td>\n",
       "      <td>130</td>\n",
       "      <td>250</td>\n",
       "      <td>1</td>\n",
       "      <td>187</td>\n",
       "      <td>1</td>\n",
       "    </tr>\n",
       "    <tr>\n",
       "      <th>2</th>\n",
       "      <td>56</td>\n",
       "      <td>1</td>\n",
       "      <td>1</td>\n",
       "      <td>120</td>\n",
       "      <td>236</td>\n",
       "      <td>1</td>\n",
       "      <td>178</td>\n",
       "      <td>1</td>\n",
       "    </tr>\n",
       "    <tr>\n",
       "      <th>3</th>\n",
       "      <td>57</td>\n",
       "      <td>0</td>\n",
       "      <td>0</td>\n",
       "      <td>120</td>\n",
       "      <td>354</td>\n",
       "      <td>1</td>\n",
       "      <td>163</td>\n",
       "      <td>1</td>\n",
       "    </tr>\n",
       "    <tr>\n",
       "      <th>4</th>\n",
       "      <td>57</td>\n",
       "      <td>1</td>\n",
       "      <td>0</td>\n",
       "      <td>140</td>\n",
       "      <td>192</td>\n",
       "      <td>1</td>\n",
       "      <td>148</td>\n",
       "      <td>1</td>\n",
       "    </tr>\n",
       "  </tbody>\n",
       "</table>\n",
       "</div>"
      ],
      "text/plain": [
       "   age  sex  cp  trtbps  chol  restecg  thalach  output\n",
       "0   63    1   3     145   233        0      150       1\n",
       "1   37    1   2     130   250        1      187       1\n",
       "2   56    1   1     120   236        1      178       1\n",
       "3   57    0   0     120   354        1      163       1\n",
       "4   57    1   0     140   192        1      148       1"
      ]
     },
     "execution_count": null,
     "metadata": {},
     "output_type": "execute_result"
    }
   ],
   "source": [
    "ha.head()"
   ]
  },
  {
   "cell_type": "code",
   "execution_count": 4,
   "metadata": {},
   "outputs": [
    {
     "name": "stdout",
     "output_type": "stream",
     "text": [
      "<class 'pandas.core.frame.DataFrame'>\n",
      "RangeIndex: 273 entries, 0 to 272\n",
      "Data columns (total 8 columns):\n",
      " #   Column   Non-Null Count  Dtype\n",
      "---  ------   --------------  -----\n",
      " 0   age      273 non-null    int64\n",
      " 1   sex      273 non-null    int64\n",
      " 2   cp       273 non-null    int64\n",
      " 3   trtbps   273 non-null    int64\n",
      " 4   chol     273 non-null    int64\n",
      " 5   restecg  273 non-null    int64\n",
      " 6   thalach  273 non-null    int64\n",
      " 7   output   273 non-null    int64\n",
      "dtypes: int64(8)\n",
      "memory usage: 17.2 KB\n",
      "<class 'pandas.core.frame.DataFrame'>\n",
      "RangeIndex: 273 entries, 0 to 272\n",
      "Data columns (total 8 columns):\n",
      " #   Column   Non-Null Count  Dtype\n",
      "---  ------   --------------  -----\n",
      " 0   age      273 non-null    int64\n",
      " 1   sex      273 non-null    int64\n",
      " 2   cp       273 non-null    int64\n",
      " 3   trtbps   273 non-null    int64\n",
      " 4   chol     273 non-null    int64\n",
      " 5   restecg  273 non-null    int64\n",
      " 6   thalach  273 non-null    int64\n",
      " 7   output   273 non-null    int64\n",
      "dtypes: int64(8)\n",
      "memory usage: 17.2 KB\n"
     ]
    }
   ],
   "source": [
    "ha.info()"
   ]
  },
  {
   "cell_type": "code",
   "execution_count": 5,
   "metadata": {},
   "outputs": [],
   "source": [
    "ha['sex'] = ha['sex'].astype('category')\n",
    "ha['cp'] = ha['cp'].astype('category')\n",
    "ha['restecg'] = ha['restecg'].astype('category')\n",
    "ha['output'] = ha['output'].astype('category')"
   ]
  },
  {
   "cell_type": "code",
   "execution_count": 6,
   "metadata": {},
   "outputs": [
    {
     "name": "stdout",
     "output_type": "stream",
     "text": [
      "<class 'pandas.core.frame.DataFrame'>\n",
      "RangeIndex: 273 entries, 0 to 272\n",
      "Data columns (total 8 columns):\n",
      " #   Column   Non-Null Count  Dtype   \n",
      "---  ------   --------------  -----   \n",
      " 0   age      273 non-null    int64   \n",
      " 1   sex      273 non-null    category\n",
      " 2   cp       273 non-null    category\n",
      " 3   trtbps   273 non-null    int64   \n",
      " 4   chol     273 non-null    int64   \n",
      " 5   restecg  273 non-null    category\n",
      " 6   thalach  273 non-null    int64   \n",
      " 7   output   273 non-null    category\n",
      "dtypes: category(4), int64(4)\n",
      "memory usage: 10.3 KB\n",
      "<class 'pandas.core.frame.DataFrame'>\n",
      "RangeIndex: 273 entries, 0 to 272\n",
      "Data columns (total 8 columns):\n",
      " #   Column   Non-Null Count  Dtype   \n",
      "---  ------   --------------  -----   \n",
      " 0   age      273 non-null    int64   \n",
      " 1   sex      273 non-null    category\n",
      " 2   cp       273 non-null    category\n",
      " 3   trtbps   273 non-null    int64   \n",
      " 4   chol     273 non-null    int64   \n",
      " 5   restecg  273 non-null    category\n",
      " 6   thalach  273 non-null    int64   \n",
      " 7   output   273 non-null    category\n",
      "dtypes: category(4), int64(4)\n",
      "memory usage: 10.3 KB\n"
     ]
    }
   ],
   "source": [
    "ha.info()"
   ]
  },
  {
   "cell_type": "code",
   "execution_count": 7,
   "metadata": {},
   "outputs": [],
   "source": [
    "X = ha.drop(['output'], axis = 1)\n",
    "y = ha['output']\n",
    "\n",
    "ct = ColumnTransformer(\n",
    "  [\n",
    "    (\"dummify\", OneHotEncoder(sparse_output = False, handle_unknown='ignore', drop= \"first\"), make_column_selector(dtype_include='category')),\n",
    "    (\"standardize\", StandardScaler(), make_column_selector(dtype_include=np.number))\n",
    "  ],\n",
    "  remainder = \"passthrough\"\n",
    ")\n"
   ]
  },
  {
   "cell_type": "markdown",
   "metadata": {},
   "source": [
    "## Part One: Fitting Models"
   ]
  },
  {
   "cell_type": "markdown",
   "metadata": {},
   "source": [
    "### KNN Model"
   ]
  },
  {
   "cell_type": "code",
   "execution_count": 27,
   "metadata": {},
   "outputs": [
    {
     "name": "stdout",
     "output_type": "stream",
     "text": [
      "Best KNN Parameters: {'knn__metric': 'manhattan', 'knn__n_neighbors': 29, 'knn__weights': 'distance'}\n",
      "Best KNN Parameters: {'knn__metric': 'manhattan', 'knn__n_neighbors': 29, 'knn__weights': 'distance'}\n"
     ]
    }
   ],
   "source": [
    "knn_pipeline = Pipeline([\n",
    "    ('preprocessing', ct),\n",
    "    ('knn', KNeighborsClassifier())\n",
    "])\n",
    "\n",
    "knn_param_grid = {\n",
    "    'knn__n_neighbors': np.arange(1, 31),\n",
    "    'knn__weights': ['uniform', 'distance'],\n",
    "    'knn__metric': ['euclidean', 'manhattan']\n",
    "}\n",
    "\n",
    "knn_grid_search = GridSearchCV(knn_pipeline, knn_param_grid, cv=5, scoring='roc_auc')\n",
    "\n",
    "knn_grid_search.fit(X, y)\n",
    "\n",
    "best_knn_model = knn_grid_search.best_estimator_\n",
    "y_pred_knn = best_knn_model.predict(X)\n",
    "y_proba_knn = best_knn_model.predict_proba(X)[:, 1]\n",
    "\n",
    "print(\"Best KNN Parameters:\", knn_grid_search.best_params_)"
   ]
  },
  {
   "cell_type": "code",
   "execution_count": 9,
   "metadata": {},
   "outputs": [
    {
     "name": "stdout",
     "output_type": "stream",
     "text": [
      "0.8206896551724139\n",
      "0.8206896551724139\n"
     ]
    }
   ],
   "source": [
    "knn_pipeline = Pipeline([\n",
    "    ('preprocessing', ct),\n",
    "    ('knn', KNeighborsClassifier(n_neighbors=29, weights=\"distance\", metric= \"manhattan\" ))\n",
    "])\n",
    "\n",
    "knn_pipeline.fit(X, y)\n",
    "\n",
    "scores = abs(cross_val_score(knn_pipeline, X, y, cv=5, scoring='roc_auc'))\n",
    "print(scores.mean())"
   ]
  },
  {
   "cell_type": "markdown",
   "metadata": {},
   "source": [
    "The ROC AUC score of 0.8206 indicates a solid job at predicting the classification of at risk for heart attack vs. not at risk."
   ]
  },
  {
   "cell_type": "code",
   "execution_count": 10,
   "metadata": {},
   "outputs": [],
   "source": [
    "knn_preds = knn_pipeline.predict(X)"
   ]
  },
  {
   "cell_type": "code",
   "execution_count": 11,
   "metadata": {},
   "outputs": [
    {
     "data": {
      "text/plain": [
       "array([[127,   0],\n",
       "       [  0, 146]])"
      ]
     },
     "execution_count": null,
     "metadata": {},
     "output_type": "execute_result"
    }
   ],
   "source": [
    "knn_confusion_matrix = confusion_matrix(y, knn_preds)\n",
    "knn_confusion_matrix"
   ]
  },
  {
   "cell_type": "markdown",
   "metadata": {},
   "source": [
    "- True Positives (TP): 127\n",
    "- False Positives (FP): 0\n",
    "- True Negatives (TN): 146\n",
    "- False Negatives (FN): 0"
   ]
  },
  {
   "cell_type": "markdown",
   "metadata": {},
   "source": [
    "### Logistic Regression"
   ]
  },
  {
   "cell_type": "code",
   "execution_count": 45,
   "metadata": {},
   "outputs": [
    {
     "name": "stdout",
     "output_type": "stream",
     "text": [
      "Best Logistic Regression Parameters: {'logistic__C': 1.623776739188721}\n",
      "Best Logistic Regression Parameters: {'logistic__C': 1.623776739188721}\n"
     ]
    }
   ],
   "source": [
    "logistic_pipeline = Pipeline([\n",
    "    ('preprocessing', ct),\n",
    "    ('logistic', LogisticRegression())\n",
    "])\n",
    "\n",
    "log_param_grid = {\n",
    "    'logistic__C': np.logspace(-4, 4, 20),\n",
    "}\n",
    "\n",
    "log_reg_grid_search = GridSearchCV(logistic_pipeline, log_param_grid, cv=5, scoring='roc_auc')\n",
    "\n",
    "log_reg_grid_search.fit(X, y)\n",
    "\n",
    "# Evaluate Logistic Regression\n",
    "best_log_reg_model = log_reg_grid_search.best_estimator_\n",
    "y_pred_log_reg = best_log_reg_model.predict(X)\n",
    "y_proba_log_reg = best_log_reg_model.predict_proba(X)[:, 1]\n",
    "\n",
    "print(\"Best Logistic Regression Parameters:\", log_reg_grid_search.best_params_)\n"
   ]
  },
  {
   "cell_type": "code",
   "execution_count": 26,
   "metadata": {},
   "outputs": [
    {
     "name": "stdout",
     "output_type": "stream",
     "text": [
      "0.8656976127320954\n",
      "0.8656976127320954\n"
     ]
    }
   ],
   "source": [
    "logistic_pipeline = Pipeline([\n",
    "    ('preprocessing', ct),\n",
    "    ('logistic', LogisticRegression(C=1.623776739188721))\n",
    "])\n",
    "\n",
    "logistic_pipeline.fit(X, y)\n",
    "\n",
    "scores = abs(cross_val_score(logistic_pipeline, X, y, cv=5, scoring='roc_auc'))\n",
    "print(scores.mean())"
   ]
  },
  {
   "cell_type": "markdown",
   "metadata": {},
   "source": [
    "The ROC AUC score of 0.865 indicates a slightly better job at predicting the classification of at risk for heart attack vs. not at risk."
   ]
  },
  {
   "cell_type": "code",
   "execution_count": 14,
   "metadata": {},
   "outputs": [],
   "source": [
    "log_preds = logistic_pipeline.predict(X)"
   ]
  },
  {
   "cell_type": "code",
   "execution_count": 15,
   "metadata": {},
   "outputs": [
    {
     "data": {
      "text/plain": [
       "array([[ 95,  32],\n",
       "       [ 23, 123]])"
      ]
     },
     "execution_count": null,
     "metadata": {},
     "output_type": "execute_result"
    }
   ],
   "source": [
    "log_confusion_matrix = confusion_matrix(y, log_preds)\n",
    "log_confusion_matrix"
   ]
  },
  {
   "cell_type": "markdown",
   "metadata": {},
   "source": [
    "- True Positives (TP): 95\n",
    "- False Positives (FP): 23\n",
    "- True Negatives (TN): 123\n",
    "- False Negatives (FN): 32"
   ]
  },
  {
   "cell_type": "markdown",
   "metadata": {},
   "source": [
    "### Decision Tree"
   ]
  },
  {
   "cell_type": "code",
   "execution_count": 46,
   "metadata": {},
   "outputs": [
    {
     "name": "stdout",
     "output_type": "stream",
     "text": [
      "Best Decision Tree Parameters: {'dt__ccp_alpha': 0.01, 'dt__max_depth': 3, 'dt__min_samples_leaf': 7, 'dt__min_samples_split': 2}\n",
      "Best Decision Tree Parameters: {'dt__ccp_alpha': 0.01, 'dt__max_depth': 3, 'dt__min_samples_leaf': 7, 'dt__min_samples_split': 2}\n"
     ]
    }
   ],
   "source": [
    "dtree_pipeline = Pipeline([\n",
    "    ('preprocessing', ct), \n",
    "    ('dt', DecisionTreeClassifier())\n",
    "])\n",
    "\n",
    "dtree_param_grid = {\n",
    "    'dt__max_depth': range(1, 11), \n",
    "    'dt__min_samples_split': range(2, 11),\n",
    "    'dt__min_samples_leaf': range(1, 11), \n",
    "    'dt__ccp_alpha': [0.001, 0.01, 0.1, 0.2]\n",
    "}\n",
    "\n",
    "\n",
    "dtree_grid_search = GridSearchCV(dtree_pipeline, dtree_param_grid, cv=5, scoring='roc_auc', n_jobs=-1)\n",
    "dtree_grid_search.fit(X, y)\n",
    "\n",
    "best_dt_model = dtree_grid_search.best_estimator_\n",
    "y_pred_dt = best_dt_model.predict(X)\n",
    "y_proba_dt = best_dt_model.predict_proba(X)[:, 1]\n",
    "\n",
    "dt_auc = roc_auc_score(y, y_proba_dt)\n",
    "\n",
    "print(\"Best Decision Tree Parameters:\", dtree_grid_search.best_params_)\n"
   ]
  },
  {
   "cell_type": "code",
   "execution_count": 17,
   "metadata": {},
   "outputs": [
    {
     "name": "stdout",
     "output_type": "stream",
     "text": [
      "0.7556162687886825\n",
      "0.7556162687886825\n"
     ]
    }
   ],
   "source": [
    "dtree_pipeline = Pipeline([\n",
    "    ('preprocessing', ct),\n",
    "    ('dt', DecisionTreeClassifier(ccp_alpha = 0.01, max_depth = 3, min_samples_leaf = 7, min_samples_split = 2))\n",
    "])\n",
    "\n",
    "dtree_pipeline.fit(X, y)\n",
    "\n",
    "scores = abs(cross_val_score(dtree_pipeline, X, y, cv=5, scoring='roc_auc'))\n",
    "print(scores.mean())"
   ]
  },
  {
   "cell_type": "markdown",
   "metadata": {},
   "source": [
    "The ROC AUC score of 0.7556 indicates a worse job at predicting the classification of at risk for heart attack vs. not at risk."
   ]
  },
  {
   "cell_type": "code",
   "execution_count": 18,
   "metadata": {},
   "outputs": [],
   "source": [
    "dtree_preds = dtree_pipeline.predict(X)"
   ]
  },
  {
   "cell_type": "code",
   "execution_count": 19,
   "metadata": {},
   "outputs": [
    {
     "data": {
      "text/plain": [
       "array([[ 99,  28],\n",
       "       [ 32, 114]])"
      ]
     },
     "execution_count": null,
     "metadata": {},
     "output_type": "execute_result"
    }
   ],
   "source": [
    "dtree_confusion_matrix = confusion_matrix(y, dtree_preds)\n",
    "dtree_confusion_matrix"
   ]
  },
  {
   "cell_type": "markdown",
   "metadata": {},
   "source": [
    "- True Positives (TP): 99\n",
    "- False Positives (FP): 32\n",
    "- True Negatives (TN): 114\n",
    "- False Negatives (FN): 28"
   ]
  },
  {
   "cell_type": "code",
   "execution_count": 37,
   "metadata": {},
   "outputs": [
    {
     "data": {
      "image/png": "[encoded data removed]",
      "text/plain": [
       "<Figure size 2000x1000 with 1 Axes>"
      ]
     },
     "metadata": {},
     "output_type": "display_data"
    }
   ],
   "source": [
    "feature_names = dtree_grid_search.best_estimator_.named_steps['preprocessing'].get_feature_names_out()\n",
    "best_decision_tree_model_plot = dtree_grid_search.best_estimator_.named_steps['dt']\n",
    "\n",
    "# Used ChatGPT to Plot Decision tree \n",
    "plt.figure(figsize=(20, 10))\n",
    "plot_tree(best_decision_tree_model_plot,\n",
    "          feature_names=feature_names,\n",
    "          class_names=[\"No Heart Attack\", \"Heart Attack\"],\n",
    "          filled=True,\n",
    "          rounded=True,\n",
    "          fontsize=10)\n",
    "plt.show()"
   ]
  },
  {
   "cell_type": "markdown",
   "metadata": {},
   "source": [
    "### Interpretation"
   ]
  },
  {
   "cell_type": "code",
   "execution_count": 32,
   "metadata": {},
   "outputs": [
    {
     "data": {
      "text/html": [
       "<div>\n",
       "<style scoped>\n",
       "    .dataframe tbody tr th:only-of-type {\n",
       "        vertical-align: middle;\n",
       "    }\n",
       "\n",
       "    .dataframe tbody tr th {\n",
       "        vertical-align: top;\n",
       "    }\n",
       "\n",
       "    .dataframe thead th {\n",
       "        text-align: right;\n",
       "    }\n",
       "</style>\n",
       "<table border=\"1\" class=\"dataframe\">\n",
       "  <thead>\n",
       "    <tr style=\"text-align: right;\">\n",
       "      <th></th>\n",
       "      <th>Feature</th>\n",
       "      <th>Coefficient</th>\n",
       "    </tr>\n",
       "  </thead>\n",
       "  <tbody>\n",
       "    <tr>\n",
       "      <th>1</th>\n",
       "      <td>dummify__cp_1</td>\n",
       "      <td>1.819411</td>\n",
       "    </tr>\n",
       "    <tr>\n",
       "      <th>2</th>\n",
       "      <td>dummify__cp_2</td>\n",
       "      <td>1.740139</td>\n",
       "    </tr>\n",
       "    <tr>\n",
       "      <th>3</th>\n",
       "      <td>dummify__cp_3</td>\n",
       "      <td>1.439256</td>\n",
       "    </tr>\n",
       "    <tr>\n",
       "      <th>9</th>\n",
       "      <td>standardize__thalach</td>\n",
       "      <td>0.780818</td>\n",
       "    </tr>\n",
       "    <tr>\n",
       "      <th>4</th>\n",
       "      <td>dummify__restecg_1</td>\n",
       "      <td>0.341112</td>\n",
       "    </tr>\n",
       "    <tr>\n",
       "      <th>6</th>\n",
       "      <td>standardize__age</td>\n",
       "      <td>-0.218351</td>\n",
       "    </tr>\n",
       "    <tr>\n",
       "      <th>8</th>\n",
       "      <td>standardize__chol</td>\n",
       "      <td>-0.274967</td>\n",
       "    </tr>\n",
       "    <tr>\n",
       "      <th>7</th>\n",
       "      <td>standardize__trtbps</td>\n",
       "      <td>-0.310469</td>\n",
       "    </tr>\n",
       "    <tr>\n",
       "      <th>5</th>\n",
       "      <td>dummify__restecg_2</td>\n",
       "      <td>-0.321115</td>\n",
       "    </tr>\n",
       "    <tr>\n",
       "      <th>0</th>\n",
       "      <td>dummify__sex_1</td>\n",
       "      <td>-1.927438</td>\n",
       "    </tr>\n",
       "  </tbody>\n",
       "</table>\n",
       "</div>"
      ],
      "text/plain": [
       "                Feature  Coefficient\n",
       "1         dummify__cp_1     1.819411\n",
       "2         dummify__cp_2     1.740139\n",
       "3         dummify__cp_3     1.439256\n",
       "9  standardize__thalach     0.780818\n",
       "4    dummify__restecg_1     0.341112\n",
       "6      standardize__age    -0.218351\n",
       "8     standardize__chol    -0.274967\n",
       "7   standardize__trtbps    -0.310469\n",
       "5    dummify__restecg_2    -0.321115\n",
       "0        dummify__sex_1    -1.927438"
      ]
     },
     "execution_count": null,
     "metadata": {},
     "output_type": "execute_result"
    }
   ],
   "source": [
    "log_reg_model = best_log_reg_model.named_steps['logistic']\n",
    "\n",
    "log_reg_coefficients = log_reg_model.coef_[0]\n",
    "\n",
    "feature_names = best_log_reg_model.named_steps['preprocessing'].get_feature_names_out()\n",
    "log_reg_feature_importance = pd.DataFrame({'Feature': feature_names, 'Coefficient': log_reg_coefficients}).sort_values('Coefficient', ascending = False)\n",
    "log_reg_feature_importance"
   ]
  },
  {
   "cell_type": "code",
   "execution_count": 34,
   "metadata": {},
   "outputs": [
    {
     "data": {
      "text/html": [
       "<div>\n",
       "<style scoped>\n",
       "    .dataframe tbody tr th:only-of-type {\n",
       "        vertical-align: middle;\n",
       "    }\n",
       "\n",
       "    .dataframe tbody tr th {\n",
       "        vertical-align: top;\n",
       "    }\n",
       "\n",
       "    .dataframe thead th {\n",
       "        text-align: right;\n",
       "    }\n",
       "</style>\n",
       "<table border=\"1\" class=\"dataframe\">\n",
       "  <thead>\n",
       "    <tr style=\"text-align: right;\">\n",
       "      <th></th>\n",
       "      <th>Feature</th>\n",
       "      <th>Importance</th>\n",
       "    </tr>\n",
       "  </thead>\n",
       "  <tbody>\n",
       "    <tr>\n",
       "      <th>0</th>\n",
       "      <td>dummify__sex_1</td>\n",
       "      <td>0.238282</td>\n",
       "    </tr>\n",
       "    <tr>\n",
       "      <th>1</th>\n",
       "      <td>dummify__cp_1</td>\n",
       "      <td>0.000000</td>\n",
       "    </tr>\n",
       "    <tr>\n",
       "      <th>2</th>\n",
       "      <td>dummify__cp_2</td>\n",
       "      <td>0.000000</td>\n",
       "    </tr>\n",
       "    <tr>\n",
       "      <th>3</th>\n",
       "      <td>dummify__cp_3</td>\n",
       "      <td>0.000000</td>\n",
       "    </tr>\n",
       "    <tr>\n",
       "      <th>4</th>\n",
       "      <td>dummify__restecg_1</td>\n",
       "      <td>0.000000</td>\n",
       "    </tr>\n",
       "    <tr>\n",
       "      <th>5</th>\n",
       "      <td>dummify__restecg_2</td>\n",
       "      <td>0.000000</td>\n",
       "    </tr>\n",
       "    <tr>\n",
       "      <th>6</th>\n",
       "      <td>standardize__age</td>\n",
       "      <td>0.149100</td>\n",
       "    </tr>\n",
       "    <tr>\n",
       "      <th>7</th>\n",
       "      <td>standardize__trtbps</td>\n",
       "      <td>0.090731</td>\n",
       "    </tr>\n",
       "    <tr>\n",
       "      <th>8</th>\n",
       "      <td>standardize__chol</td>\n",
       "      <td>0.000000</td>\n",
       "    </tr>\n",
       "    <tr>\n",
       "      <th>9</th>\n",
       "      <td>standardize__thalach</td>\n",
       "      <td>0.521888</td>\n",
       "    </tr>\n",
       "  </tbody>\n",
       "</table>\n",
       "</div>"
      ],
      "text/plain": [
       "                Feature  Importance\n",
       "0        dummify__sex_1    0.238282\n",
       "1         dummify__cp_1    0.000000\n",
       "2         dummify__cp_2    0.000000\n",
       "3         dummify__cp_3    0.000000\n",
       "4    dummify__restecg_1    0.000000\n",
       "5    dummify__restecg_2    0.000000\n",
       "6      standardize__age    0.149100\n",
       "7   standardize__trtbps    0.090731\n",
       "8     standardize__chol    0.000000\n",
       "9  standardize__thalach    0.521888"
      ]
     },
     "execution_count": null,
     "metadata": {},
     "output_type": "execute_result"
    }
   ],
   "source": [
    "decision_tree_model = best_dt_model.named_steps['dt']\n",
    "\n",
    "decision_tree_importances = decision_tree_model.feature_importances_\n",
    "\n",
    "decision_tree_feature_importance = pd.DataFrame({'Feature': feature_names, 'Importance': decision_tree_importances})\n",
    "decision_tree_feature_importance"
   ]
  },
  {
   "cell_type": "markdown",
   "metadata": {},
   "source": [
    "The predictors most important to predicting heart attack risk in the logistic regression model are being male and having the chest pain type typical angina.\n",
    "\n",
    "For the decision tree, the most significant predictors are maximum heart rate achieved during exercise and being male."
   ]
  },
  {
   "cell_type": "markdown",
   "metadata": {},
   "source": [
    "### ROC Curve"
   ]
  },
  {
   "cell_type": "code",
   "execution_count": 41,
   "metadata": {},
   "outputs": [],
   "source": [
    "X_train, X_test, y_train, y_test = train_test_split(X, y, stratify=y, random_state = 3)\n",
    "\n",
    "probs_knn = best_knn_model.predict_proba(X_test)[:, 1]\n",
    "probs_log_reg = best_log_reg_model.predict_proba(X_test)[:, 1]\n",
    "probs_decision_tree = best_dt_model.predict_proba(X_test)[:, 1]\n",
    "\n",
    "fpr_knn, tpr_knn, thresholds_knn = roc_curve(y_test, probs_knn)\n",
    "fpr_log_reg, tpr_log_reg, thresholds_log_reg = roc_curve(y_test, probs_log_reg)\n",
    "fpr_decision_tree, tpr_decision_tree, thresholds_decision_tree = roc_curve(y_test, probs_decision_tree)\n",
    "\n",
    "auc_knn = auc(fpr_knn, tpr_knn)\n",
    "auc_log_reg = auc(fpr_log_reg, tpr_log_reg)\n",
    "auc_decision_tree = auc(fpr_decision_tree, tpr_decision_tree)"
   ]
  },
  {
   "cell_type": "code",
   "execution_count": 42,
   "metadata": {},
   "outputs": [
    {
     "data": {
      "image/png": "[encoded data removed]",
      "text/plain": [
       "<Figure size 1000x600 with 1 Axes>"
      ]
     },
     "metadata": {},
     "output_type": "display_data"
    }
   ],
   "source": [
    "# Utilized ChatGPT to help me plot the ROC AUC Curve\n",
    "from sklearn.metrics import roc_curve\n",
    "import matplotlib.pyplot as plt\n",
    "\n",
    "fpr_knn, tpr_knn, _ = roc_curve(y, y_proba_knn)\n",
    "fpr_log_reg, tpr_log_reg, _ = roc_curve(y, y_proba_log_reg)\n",
    "fpr_dt, tpr_dt, _ = roc_curve(y, y_proba_dt)\n",
    "\n",
    "plt.figure(figsize=(10, 6))\n",
    "plt.plot(fpr_knn, tpr_knn, label=f'KNN (AUC = {auc_knn:.2f})')\n",
    "plt.plot(fpr_log_reg, tpr_log_reg, label=f'Logistic Regression (AUC = {auc_log_reg:.2f})')\n",
    "plt.plot(fpr_dt, tpr_dt, label=f'Decision Tree (AUC = {auc_decision_tree:.2f})')\n",
    "plt.plot([0, 1], [0, 1], 'k--', label='Random Classifier')\n",
    "plt.title('ROC Curve')\n",
    "plt.xlabel('False Positive Rate')\n",
    "plt.ylabel('True Positive Rate')\n",
    "plt.legend(loc='lower right')\n",
    "plt.show()"
   ]
  },
  {
   "cell_type": "markdown",
   "metadata": {},
   "source": [
    "## Part Two: Metrics"
   ]
  },
  {
   "cell_type": "code",
   "execution_count": 47,
   "metadata": {},
   "outputs": [
    {
     "name": "stdout",
     "output_type": "stream",
     "text": [
      "KNN Metrics: {'Recall (Sensitivity)': 0.7123287671232876, 'Precision': 0.7819548872180451, 'Specificity': 0.7716535433070866}\n",
      "Logistic Regression Metrics: {'Recall (Sensitivity)': 0.815068493150685, 'Precision': 0.7880794701986755, 'Specificity': 0.7480314960629921}\n",
      "Decision Tree Metrics: {'Recall (Sensitivity)': 0.7328767123287672, 'Precision': 0.7482517482517482, 'Specificity': 0.7165354330708661}\n",
      "KNN Metrics: {'Recall (Sensitivity)': 0.7123287671232876, 'Precision': 0.7819548872180451, 'Specificity': 0.7716535433070866}\n",
      "Logistic Regression Metrics: {'Recall (Sensitivity)': 0.815068493150685, 'Precision': 0.7880794701986755, 'Specificity': 0.7480314960629921}\n",
      "Decision Tree Metrics: {'Recall (Sensitivity)': 0.7328767123287672, 'Precision': 0.7482517482517482, 'Specificity': 0.7165354330708661}\n"
     ]
    }
   ],
   "source": [
    "from sklearn.model_selection import cross_val_predict\n",
    "from sklearn.metrics import confusion_matrix\n",
    "\n",
    "# ChatGPT created this function to compute the Sensitivity, Precision, and Specificity\n",
    "def compute_metrics(y_true, y_pred):\n",
    "    cm = confusion_matrix(y_true, y_pred)\n",
    "    tn, fp, fn, tp = cm.ravel()\n",
    "    \n",
    "    recall = tp / (tp + fn) \n",
    "    precision = tp / (tp + fp) if (tp + fp) > 0 else 0\n",
    "    specificity = tn / (tn + fp) if (tn + fp) > 0 else 0 \n",
    "    \n",
    "    return {\"Recall (Sensitivity)\": recall, \"Precision\": precision, \"Specificity\": specificity}\n",
    "\n",
    "# Cross-validated predictions\n",
    "knn_preds = cross_val_predict(best_knn_model, X, y, cv=5)\n",
    "log_reg_preds = cross_val_predict(best_log_reg_model, X, y, cv=5)\n",
    "dt_preds = cross_val_predict(best_dt_model, X, y, cv=5)\n",
    "\n",
    "# Compute metrics\n",
    "knn_metrics = compute_metrics(y, knn_preds)\n",
    "log_reg_metrics = compute_metrics(y, log_reg_preds)\n",
    "dt_metrics = compute_metrics(y, dt_preds)\n",
    "\n",
    "# Display results\n",
    "print(\"KNN Metrics:\", knn_metrics)\n",
    "print(\"Logistic Regression Metrics:\", log_reg_metrics)\n",
    "print(\"Decision Tree Metrics:\", dt_metrics)\n"
   ]
  },
  {
   "cell_type": "markdown",
   "metadata": {},
   "source": [
    "## Part Three: Discussion"
   ]
  },
  {
   "cell_type": "markdown",
   "metadata": {},
   "source": [
    "### Q1\n",
    "#### The hospital faces severe lawsuits if they deem a patient to be low risk, and that patient later experiences a heart attack.\n",
    "\n"
   ]
  },
  {
   "cell_type": "markdown",
   "metadata": {},
   "source": [
    "Sensitivity is the most important metric in this case because we need to minimize false negatives, which are cases where a patient at risk for a heart attack is incorrectly classified as low risk. The Logistic Regression model is the best choice because has the highest sensitivity out of the three models of 0.815. This means that approximately 81.5% of actual high-risk patients will be correctly identified."
   ]
  },
  {
   "cell_type": "markdown",
   "metadata": {},
   "source": [
    "### Q2\n",
    "#### The hospital is overfull, and wants to only use bed space for patients most in need of monitoring due to heart attack risk."
   ]
  },
  {
   "cell_type": "markdown",
   "metadata": {},
   "source": [
    "Precision is the most important metric in this case because it ensures that the majority of patients flagged as high-risk truly are high-risk, which is essential for efficiently using limited resources. The Logistic Regression model is the best choice because has the highest precision out of the three models of 0.788. This means that approximately  about 78.8% of the patients identified as high risk are actually at risk.\n"
   ]
  },
  {
   "cell_type": "markdown",
   "metadata": {},
   "source": [
    "### Q3\n",
    "#### The hospital is studying root causes of heart attacks, and would like to understand which biological measures are associated with heart attack risk."
   ]
  },
  {
   "cell_type": "markdown",
   "metadata": {},
   "source": [
    "The focus here is on understanding relationships between features and heart attack risk, so model interpretability is key. I believe that Logistic Regression would be the best model in this case because it provides coefficients that can be interpreted easily to directly understand the relationship between each predictor and heart attack risk.\n"
   ]
  },
  {
   "cell_type": "markdown",
   "metadata": {},
   "source": [
    "### Q4\n",
    "#### The hospital is training a new batch of doctors, and they would like to compare the diagnoses of these doctors to the predictions given by the algorithm to measure the ability of new doctors to diagnose patients"
   ]
  },
  {
   "cell_type": "markdown",
   "metadata": {},
   "source": [
    "In this case overall accuracy is most important. This ensures the model's classifications align closely with the actual outcomes, providing a benchmark for new doctors' performance. The Confusion Matrix offers a detailed breakdown of errors, which can help assess where doctors are overperforming or underperforming. I think that the KNN Model would be the best choice because it offers a simple, flexible benchmark. The KNN model had 0 False Negatives and 0 False Positives."
   ]
  },
  {
   "cell_type": "markdown",
   "metadata": {},
   "source": [
    "## Part Four: Validation"
   ]
  },
  {
   "cell_type": "code",
   "execution_count": 48,
   "metadata": {},
   "outputs": [],
   "source": [
    "ha_validation = pd.read_csv(\"https://www.dropbox.com/s/jkwqdiyx6o6oad0/heart_attack_validation.csv?dl=1\")"
   ]
  },
  {
   "cell_type": "code",
   "execution_count": 49,
   "metadata": {},
   "outputs": [
    {
     "name": "stdout",
     "output_type": "stream",
     "text": [
      "<class 'pandas.core.frame.DataFrame'>\n",
      "RangeIndex: 30 entries, 0 to 29\n",
      "Data columns (total 8 columns):\n",
      " #   Column   Non-Null Count  Dtype\n",
      "---  ------   --------------  -----\n",
      " 0   age      30 non-null     int64\n",
      " 1   sex      30 non-null     int64\n",
      " 2   cp       30 non-null     int64\n",
      " 3   trtbps   30 non-null     int64\n",
      " 4   chol     30 non-null     int64\n",
      " 5   restecg  30 non-null     int64\n",
      " 6   thalach  30 non-null     int64\n",
      " 7   output   30 non-null     int64\n",
      "dtypes: int64(8)\n",
      "memory usage: 2.0 KB\n",
      "<class 'pandas.core.frame.DataFrame'>\n",
      "RangeIndex: 30 entries, 0 to 29\n",
      "Data columns (total 8 columns):\n",
      " #   Column   Non-Null Count  Dtype\n",
      "---  ------   --------------  -----\n",
      " 0   age      30 non-null     int64\n",
      " 1   sex      30 non-null     int64\n",
      " 2   cp       30 non-null     int64\n",
      " 3   trtbps   30 non-null     int64\n",
      " 4   chol     30 non-null     int64\n",
      " 5   restecg  30 non-null     int64\n",
      " 6   thalach  30 non-null     int64\n",
      " 7   output   30 non-null     int64\n",
      "dtypes: int64(8)\n",
      "memory usage: 2.0 KB\n"
     ]
    }
   ],
   "source": [
    "ha_validation.info()"
   ]
  },
  {
   "cell_type": "code",
   "execution_count": 50,
   "metadata": {},
   "outputs": [],
   "source": [
    "ha_validation['sex'] = ha_validation['sex'].astype('category')\n",
    "ha_validation['cp'] = ha_validation['cp'].astype('category')\n",
    "ha_validation['restecg'] = ha_validation['restecg'].astype('category')\n",
    "ha_validation['output'] = ha_validation['output'].astype('category')"
   ]
  },
  {
   "cell_type": "code",
   "execution_count": 51,
   "metadata": {},
   "outputs": [],
   "source": [
    "X_valid = ha_validation.drop(\"output\", axis=1)\n",
    "y_valid = ha_validation[\"output\"]\n"
   ]
  },
  {
   "cell_type": "markdown",
   "metadata": {},
   "source": [
    "### KNN Validation"
   ]
  },
  {
   "cell_type": "code",
   "execution_count": 53,
   "metadata": {},
   "outputs": [
    {
     "name": "stdout",
     "output_type": "stream",
     "text": [
      "Confusion Matrix:\n",
      " [[10  1]\n",
      " [ 8 11]]\n",
      "ROC AUC: 0.8516746411483254\n",
      "Precision: 0.9166666666666666\n",
      "Recall: 0.5789473684210527\n",
      "Confusion Matrix:\n",
      " [[10  1]\n",
      " [ 8 11]]\n",
      "ROC AUC: 0.8516746411483254\n",
      "Precision: 0.9166666666666666\n",
      "Recall: 0.5789473684210527\n"
     ]
    }
   ],
   "source": [
    "knn_preds = best_knn_model.predict(X_valid)\n",
    "knn_probs = best_knn_model.predict_proba(X_valid)[:, 1]\n",
    "\n",
    "knn_confusion = confusion_matrix(y_valid, knn_preds)\n",
    "knn_roc_auc = roc_auc_score(y_valid, knn_probs)\n",
    "knn_precision = precision_score(y_valid, knn_preds)\n",
    "knn_recall = recall_score(y_valid, knn_preds)\n",
    "\n",
    "print(\"Confusion Matrix:\\n\", knn_confusion)\n",
    "print(\"ROC AUC:\", knn_roc_auc)\n",
    "print(\"Precision:\", knn_precision)\n",
    "print(\"Recall:\", knn_recall)\n"
   ]
  },
  {
   "cell_type": "markdown",
   "metadata": {},
   "source": [
    "The ROC AUC score on the validation model is slightly higher, this means that our model had a good fit. Our actual precision score was much higher than our estimated precision score, but this came at the expense of the recall score which is significanly lower than our predicted value."
   ]
  },
  {
   "cell_type": "markdown",
   "metadata": {},
   "source": [
    "### Logisitic Regression Validation"
   ]
  },
  {
   "cell_type": "code",
   "execution_count": 57,
   "metadata": {},
   "outputs": [
    {
     "name": "stdout",
     "output_type": "stream",
     "text": [
      "Confusion Matrix:\n",
      " [[ 8  3]\n",
      " [ 4 15]]\n",
      "ROC AUC: 0.8803827751196172\n",
      "Precision: 0.8333333333333334\n",
      "Recall: 0.7894736842105263\n",
      "Confusion Matrix:\n",
      " [[ 8  3]\n",
      " [ 4 15]]\n",
      "ROC AUC: 0.8803827751196172\n",
      "Precision: 0.8333333333333334\n",
      "Recall: 0.7894736842105263\n"
     ]
    }
   ],
   "source": [
    "log_preds = best_log_reg_model.predict(X_valid)\n",
    "log_probs = best_log_reg_model.predict_proba(X_valid)[:, 1]\n",
    "\n",
    "log_confusion = confusion_matrix(y_valid, log_preds)\n",
    "log_roc_auc = roc_auc_score(y_valid, log_probs)\n",
    "log_precision = precision_score(y_valid, log_preds)\n",
    "log_recall = recall_score(y_valid, log_preds)\n",
    "\n",
    "print(\"Confusion Matrix:\\n\", log_confusion)\n",
    "print(\"ROC AUC:\", log_roc_auc)\n",
    "print(\"Precision:\", log_precision)\n",
    "print(\"Recall:\", log_recall)"
   ]
  },
  {
   "cell_type": "markdown",
   "metadata": {},
   "source": [
    "Agiain the ROC AUC score on the validation model is higher, meaning the fit of the Logistic Regression was good. Our actual precision score was a little higher than our estimated precision score, but this came at the expense of the recall score which is also slightly lower than our predicted value."
   ]
  },
  {
   "cell_type": "markdown",
   "metadata": {},
   "source": [
    "### Decision Tree Validation"
   ]
  },
  {
   "cell_type": "code",
   "execution_count": 58,
   "metadata": {},
   "outputs": [
    {
     "name": "stdout",
     "output_type": "stream",
     "text": [
      "Confusion Matrix:\n",
      " [[ 9  2]\n",
      " [ 7 12]]\n",
      "ROC AUC: 0.7822966507177033\n",
      "Precision: 0.8571428571428571\n",
      "Recall: 0.631578947368421\n",
      "Confusion Matrix:\n",
      " [[ 9  2]\n",
      " [ 7 12]]\n",
      "ROC AUC: 0.7822966507177033\n",
      "Precision: 0.8571428571428571\n",
      "Recall: 0.631578947368421\n"
     ]
    }
   ],
   "source": [
    "dtree_preds = best_dt_model.predict(X_valid)\n",
    "dtree_probs = best_dt_model.predict_proba(X_valid)[:, 1]\n",
    "\n",
    "dtree_confusion = confusion_matrix(y_valid, dtree_preds)\n",
    "dtree_roc_auc = roc_auc_score(y_valid, dtree_probs)\n",
    "dtree_precision = precision_score(y_valid, dtree_preds)\n",
    "dtree_recall = recall_score(y_valid, dtree_preds)\n",
    "\n",
    "print(\"Confusion Matrix:\\n\", dtree_confusion)\n",
    "print(\"ROC AUC:\", dtree_roc_auc)\n",
    "print(\"Precision:\", dtree_precision)\n",
    "print(\"Recall:\", dtree_recall)"
   ]
  },
  {
   "cell_type": "markdown",
   "metadata": {},
   "source": [
    "The ROC AUC score on the validation model is sligthly higher, so again this model has a good fit for the dataset. Again the actual precision score was higher than our estimated precision score, and caused the recall score to decrease by 0.1 from our predicted value."
   ]
  },
  {
   "cell_type": "markdown",
   "metadata": {},
   "source": [
    "## Part Five: Cohen’s Kappa\n"
   ]
  },
  {
   "cell_type": "markdown",
   "metadata": {},
   "source": [
    "Cohen’s Kappa is a metric that measures the level of agreement between the predictions of a classifier and the true labels while accounting for chance agreement. It is particularly useful in cases of imbalanced data, where standard metrics like accuracy can be misleading.\n",
    "\n"
   ]
  },
  {
   "cell_type": "markdown",
   "metadata": {},
   "source": [
    "### KNN"
   ]
  },
  {
   "cell_type": "code",
   "execution_count": 59,
   "metadata": {},
   "outputs": [
    {
     "data": {
      "text/plain": [
       "0.4303797468354431"
      ]
     },
     "execution_count": null,
     "metadata": {},
     "output_type": "execute_result"
    }
   ],
   "source": [
    "cohen_kappa_score(y_valid, knn_preds)"
   ]
  },
  {
   "cell_type": "markdown",
   "metadata": {},
   "source": [
    "This would be considered moderate agreement, suggesting an okay model."
   ]
  },
  {
   "cell_type": "markdown",
   "metadata": {},
   "source": [
    "### Logistic Regression"
   ]
  },
  {
   "cell_type": "code",
   "execution_count": 60,
   "metadata": {},
   "outputs": [
    {
     "data": {
      "text/plain": [
       "0.5070422535211268"
      ]
     },
     "execution_count": null,
     "metadata": {},
     "output_type": "execute_result"
    }
   ],
   "source": [
    "cohen_kappa_score(y_valid, log_preds)"
   ]
  },
  {
   "cell_type": "markdown",
   "metadata": {},
   "source": [
    "This would also be considered moderate agreement, suggesting an okay model."
   ]
  },
  {
   "cell_type": "markdown",
   "metadata": {},
   "source": [
    "### Decision Tree"
   ]
  },
  {
   "cell_type": "code",
   "execution_count": 61,
   "metadata": {},
   "outputs": [
    {
     "data": {
      "text/plain": [
       "0.4104803493449781"
      ]
     },
     "execution_count": null,
     "metadata": {},
     "output_type": "execute_result"
    }
   ],
   "source": [
    "cohen_kappa_score(y_valid, dtree_preds)"
   ]
  },
  {
   "cell_type": "markdown",
   "metadata": {},
   "source": [
    "Lastly this would also be considered moderate agreement, suggesting an okay model."
   ]
  },
  {
   "cell_type": "markdown",
   "metadata": {},
   "source": [
    "The model with the highest Cohen’s Kappa is the Logistic Regression Model, which is also the model that had the highest ROC AUC on the Validation data. So this metric reinforces the confidence in the Logistic Regression model choice. Cohen's Kappa is a valuable metric when an overall measure of model performance is needed without having to pick between either precision or recall. This is particularly useful in healthcare scenarios where both false positives and false negatives can have serious consequences. Our previous conclusions continue to favor logistic regression due to its highest Cohen's Kappa and ROC-AUC, as well as its interpretable coefficients."
   ]
  }
 ],
 "metadata": {
  "language_info": {
   "name": "python"
  }
 },
 "nbformat": 4,
 "nbformat_minor": 2
}
